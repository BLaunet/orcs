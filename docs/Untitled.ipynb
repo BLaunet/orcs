{
 "cells": [
  {
   "cell_type": "code",
   "execution_count": 1,
   "metadata": {},
   "outputs": [
    {
     "name": "stdout",
     "output_type": "stream",
     "text": [
      "17-07-25|17:04:46 # SpectralCube.__init__ > Data shape : (2048, 2064, 840)\n",
      "17-07-25|17:04:46 # SpectralCube.__init__ > Cube is in WAVENUMBER (cm-1)\n",
      "17-07-25|17:04:46 # SpectralCube.__init__ > Cube is CALIBRATED\n"
     ]
    }
   ],
   "source": [
    "from orcs.process import SpectralCube\n",
    "# load spectral cube\n",
    "cube = SpectralCube('/home/thomas/M31_SN3.merged.cm1.1.0.hdf5')"
   ]
  },
  {
   "cell_type": "code",
   "execution_count": null,
   "metadata": {},
   "outputs": [
    {
     "name": "stdout",
     "output_type": "stream",
     "text": [
      "17-07-25|17:05:05 # SpectralCube.detect_sources > Source detection using fast algorithm\n",
      "17-07-25|17:05:05 # SpectralCube.detect_sources > Signal range: [14583.211806568279, 15462.642256308758] cm-1, (270, 608) pixels\n",
      "Init of the parallel processing server with 4 threads\n",
      "17-07-25|17:05:06 # SpectralCube.detect_sources > Extracting frames: 270 to 309 (/338 frames)\n",
      " [==========] [100%] [completed in 1m55s]                                     \n",
      "17-07-25|17:07:54 # SpectralCube.detect_sources > Extracting frames: 310 to 349 (/338 frames)\n",
      " [==========] [100%] [completed in 2m6s]                                      \n",
      "17-07-25|17:10:53 # SpectralCube.detect_sources > Extracting frames: 350 to 389 (/338 frames)\n",
      " [==========] [100%] [completed in 2m6s]                                      \n",
      "17-07-25|17:13:51 # SpectralCube.detect_sources > Extracting frames: 390 to 429 (/338 frames)\n",
      " [==========] [100%] [completed in 1m57s]                                     \n",
      "17-07-25|17:16:39 # SpectralCube.detect_sources > Extracting frames: 430 to 469 (/338 frames)\n",
      " [==========] [100%] [completed in 2m18s]                                     \n",
      "17-07-25|17:19:48 # SpectralCube.detect_sources > Extracting frames: 470 to 509 (/338 frames)\n",
      "                                                                              "
     ]
    }
   ],
   "source": [
    "cube.detect_sources(fast=True)"
   ]
  },
  {
   "cell_type": "code",
   "execution_count": null,
   "metadata": {
    "collapsed": true
   },
   "outputs": [],
   "source": []
  }
 ],
 "metadata": {
  "kernelspec": {
   "display_name": "Python 2",
   "language": "python",
   "name": "python2"
  },
  "language_info": {
   "codemirror_mode": {
    "name": "ipython",
    "version": 2
   },
   "file_extension": ".py",
   "mimetype": "text/x-python",
   "name": "python",
   "nbconvert_exporter": "python",
   "pygments_lexer": "ipython2",
   "version": "2.7.13"
  }
 },
 "nbformat": 4,
 "nbformat_minor": 2
}
